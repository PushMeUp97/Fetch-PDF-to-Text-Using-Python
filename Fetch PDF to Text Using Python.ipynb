{
 "cells": [
  {
   "cell_type": "code",
   "execution_count": null,
   "id": "00c704ce-3212-4f2a-ba2b-17702cbc3cd2",
   "metadata": {},
   "outputs": [],
   "source": [
    "import pdfplumber as pdftool\n",
    "\n",
    "def fetch_text(file_path):\n",
    "    # Extract page by page\n",
    "    with pdftool.open(file_path) as tool:\n",
    "        for p_no, page in enumerate(tool.pages, 1):\n",
    "            print('<--- page no', p_no, '--->')\n",
    "            data = page.extract_text()\n",
    "            print(data)\n",
    "\n",
    "# Example usage\n",
    "fetch_text(\"C:\\\\Users\\\\Locas\\\\Desktop\\\\FileTestCodex\\\\Fetch PDF to Text\\\\Test 01.pdf\")\n"
   ]
  }
 ],
 "metadata": {
  "kernelspec": {
   "display_name": "Python 3 (ipykernel)",
   "language": "python",
   "name": "python3"
  },
  "language_info": {
   "codemirror_mode": {
    "name": "ipython",
    "version": 3
   },
   "file_extension": ".py",
   "mimetype": "text/x-python",
   "name": "python",
   "nbconvert_exporter": "python",
   "pygments_lexer": "ipython3",
   "version": "3.12.6"
  }
 },
 "nbformat": 4,
 "nbformat_minor": 5
}
